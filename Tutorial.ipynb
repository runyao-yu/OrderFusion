{
 "cells": [
  {
   "cell_type": "markdown",
   "id": "d231a36b",
   "metadata": {},
   "source": [
    "# Tutorial"
   ]
  },
  {
   "cell_type": "code",
   "execution_count": 1,
   "id": "bf9abbc1",
   "metadata": {},
   "outputs": [
    {
     "name": "stdout",
     "output_type": "stream",
     "text": [
      "Python version: 3.10.15 | packaged by Anaconda, Inc. | (main, Oct  3 2024, 07:22:19) [MSC v.1929 64 bit (AMD64)]\n",
      "TensorFlow version: 2.16.2\n",
      "NumPy version: 1.23.5\n",
      "Pandas version: 2.2.3\n",
      "Scikit-learn version: 1.5.2\n"
     ]
    }
   ],
   "source": [
    "from OrderFusion import *"
   ]
  },
  {
   "cell_type": "markdown",
   "id": "8553be8a",
   "metadata": {},
   "source": [
    "# Step 1: define settings\n",
    "\n",
    "- define global configurations for data and model\n",
    "- read comments in the following block"
   ]
  },
  {
   "cell_type": "code",
   "execution_count": null,
   "id": "60e7fce2",
   "metadata": {},
   "outputs": [],
   "source": [
    "save_path = train_status('local') # 'local' if run locally or 'cloud' run on Google Colab\n",
    "country = 'germany' # markets: 'germany' or  'austria' \n",
    "resolution = 'h' # product types: 'h' stands for hourly\n",
    "indice = 'ID3' # price indice: 'ID3', 'ID2', 'ID1'\n",
    "train_start_date = '2022-01-01' # start date for training data\n",
    "split_len = (24, 6, 6) # e.g. (24, 6, 6): first 24 months for training, next 6 months for validation, next 6 months for testing\n",
    "years = [2022, 2023, 2024] # years that you purschased the data for\n",
    "quantiles = [0.1, 0.5, 0.9] # target quantiles to forecast, could be many e.g. [0.05, 0.1, 0.5, 0.9, 0.95]\n",
    "model_shape = [16, 4, 1] # optimized hidden_dimension, max. degree of interactions, number of attention heads. Change might lead to unstable training.\n",
    "epoch, batch_size = 50, 256 # optimized number of epochs and batch size. Change might lead to unstable training.\n",
    "num_trade = 16 # optimized number of trades (L in the paper) in the input sequence to retain. Change might lead to unstable training.\n",
    "''' Depends on markets:\n",
    "    German market: 16 for ID1, ID2, and ID3\n",
    "    Austrian market: 8 for ID1, ID2, and 2 for ID3\n",
    "'''\n",
    "seed = 42 # random seeds for reproducibility\n",
    "show_progress_bar = False # whether to show the training progress bar\n",
    "model_mode = 'OrderFusion'\n",
    "data_config = (country, resolution, indice, save_path, split_len, train_start_date, years)\n",
    "model_config = (model_mode, model_shape, epoch, batch_size, num_trade, quantiles, seed, show_progress_bar)"
   ]
  },
  {
   "cell_type": "markdown",
   "id": "f011b082",
   "metadata": {},
   "source": [
    "# Step 2: preprocess orderbook\n",
    "- it saves scaler, separate input and label\n",
    "- only need to do it once (i.e. first time running the code)"
   ]
  },
  {
   "cell_type": "code",
   "execution_count": null,
   "id": "8f8e65e5",
   "metadata": {},
   "outputs": [],
   "source": [
    "phase = 'prepare'\n",
    "execute_main(data_config, model_config, phase)"
   ]
  },
  {
   "cell_type": "markdown",
   "id": "ccc13af9",
   "metadata": {},
   "source": [
    "# Step 3: train the model\n",
    "- train the model out of many epochs\n",
    "- the best model with lowest validation loss is saved under \"Model\" folder\n",
    "- the testing metrics are saved under \"Result\" folder"
   ]
  },
  {
   "cell_type": "code",
   "execution_count": null,
   "id": "d210f49a",
   "metadata": {},
   "outputs": [],
   "source": [
    "phase = 'train'\n",
    "execute_main(data_config, model_config, phase)"
   ]
  },
  {
   "cell_type": "markdown",
   "id": "49cac4cd",
   "metadata": {},
   "source": [
    "# Step 4: monitor the predictions\n",
    "- load the trained model from the \"Model\" folder\n",
    "- produce forecasts versus true prices, figures saved under \"Figure\" folder\n",
    "- generate GIFs using testing data"
   ]
  },
  {
   "cell_type": "code",
   "execution_count": null,
   "id": "07f1f7a4",
   "metadata": {},
   "outputs": [],
   "source": [
    "phase = 'inference'\n",
    "execute_main(data_config, model_config, phase)"
   ]
  }
 ],
 "metadata": {
  "kernelspec": {
   "display_name": "base",
   "language": "python",
   "name": "python3"
  },
  "language_info": {
   "codemirror_mode": {
    "name": "ipython",
    "version": 3
   },
   "file_extension": ".py",
   "mimetype": "text/x-python",
   "name": "python",
   "nbconvert_exporter": "python",
   "pygments_lexer": "ipython3",
   "version": "3.10.15"
  }
 },
 "nbformat": 4,
 "nbformat_minor": 5
}
